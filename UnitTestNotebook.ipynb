{
  "cells": [
    {
      "cell_type": "markdown",
      "metadata": {
        "id": "E7rJu_hoxQPW"
      },
      "source": [
        "# Unit Testing\n",
        "\n",
        "This notebook provides a way to run unit tests in Google Colab on TPU hardware. Make sure the `TPU` runtime type is enabled and run the following cells in order."
      ]
    },
    {
      "cell_type": "code",
      "execution_count": null,
      "metadata": {
        "id": "GVGQOBqqxQPc"
      },
      "outputs": [],
      "source": [
        "import os\n",
        "\n",
        "branch = 'master' #@param ['master'] {allow-input: true}\n",
        "\n",
        "'''Load & cd into gdrive for persistent data'''\n",
        "global path_dir\n",
        "if not os.path.exists('/content/gdrive/MyDrive/'): # create your own notebook with our code\n",
        "  print(\"Google Drive is not mounted at /content/gdrive. You will be prompted to sign in to Google to mount your GDrive.\")\n",
        "  from google.colab import drive\n",
        "  drive.mount('/content/gdrive')\n",
        "%cd '/content/gdrive/MyDrive'\n",
        "\n",
        "\n",
        "if not os.path.exists('/content/gdrive/MyDrive/GIMPS'):\n",
        "  print(\"Creating GIMPS folder...\")\n",
        "  %mkdir -p GIMPS\n",
        "%cd 'GIMPS'\n",
        "\n",
        "!git clone https://github.com/TPU-Mersenne-Prime-Search/TensorPrime/ TensorPrime\n",
        "%cd TensorPrime\n",
        "!git pull"
      ]
    },
    {
      "cell_type": "markdown",
      "metadata": {
        "id": "suRHdNxqxQPc"
      },
      "source": [
        "Pull latest code from new branch"
      ]
    },
    {
      "cell_type": "code",
      "execution_count": null,
      "metadata": {
        "id": "TsfB1kF0xQPd"
      },
      "outputs": [],
      "source": [
        "!git checkout {branch} && git pull"
      ]
    },
    {
      "cell_type": "markdown",
      "metadata": {
        "id": "oMj6t7JPxQPd"
      },
      "source": [
        "Run tests"
      ]
    },
    {
      "cell_type": "code",
      "execution_count": null,
      "metadata": {
        "id": "vOAACIRjxQPe"
      },
      "outputs": [],
      "source": [
        "!python tests.py"
      ]
    }
  ],
  "metadata": {
    "language_info": {
      "name": "python"
    },
    "orig_nbformat": 4,
    "colab": {
      "name": "UnitTestNotebook.ipynb",
      "provenance": []
    },
    "kernelspec": {
      "name": "python3",
      "display_name": "Python 3"
    },
    "accelerator": "TPU"
  },
  "nbformat": 4,
  "nbformat_minor": 0
}