{
 "cells": [
  {
   "cell_type": "markdown",
   "metadata": {
    "id": "E7rJu_hoxQPW"
   },
   "source": [
    "# Unit Testing\n",
    "\n",
    "This notebook provides a way to run unit tests in Google Colab on TPU hardware. Make sure the `TPU` runtime type is enabled and run the following cells in order."
   ]
  },
  {
   "cell_type": "code",
   "execution_count": 2,
   "metadata": {
    "id": "GVGQOBqqxQPc",
    "executionInfo": {
     "status": "ok",
     "timestamp": 1644964838429,
     "user_tz": 480,
     "elapsed": 22020,
     "user": {
      "displayName": "",
      "photoUrl": "",
      "userId": ""
     }
    },
    "outputId": "33e81754-25d7-4189-f293-3a9afc3f52a8",
    "colab": {
     "base_uri": "https://localhost:8080/"
    },
    "ExecuteTime": {
     "end_time": "2023-12-19T00:36:22.868126Z",
     "start_time": "2023-12-19T00:36:20.252555Z"
    }
   },
   "outputs": [
    {
     "name": "stdout",
     "output_type": "stream",
     "text": [
      "Creating GIMPS folder...\n",
      "/Users/danc2050/PycharmProjects/TensorPrime/GIMPS\n",
      "Cloning into 'TensorPrime'...\r\n"
     ]
    },
    {
     "name": "stderr",
     "output_type": "stream",
     "text": [
      "/Library/Frameworks/Python.framework/Versions/3.11/lib/python3.11/site-packages/IPython/core/magics/osm.py:417: UserWarning: using dhist requires you to install the `pickleshare` library.\n",
      "  self.shell.db['dhist'] = compress_dhist(dhist)[-100:]\n"
     ]
    },
    {
     "name": "stdout",
     "output_type": "stream",
     "text": [
      "remote: Enumerating objects: 628, done.\u001B[K\r\n",
      "remote: Counting objects: 100% (280/280), done.\u001B[K\r\n",
      "remote: Compressing objects: 100% (70/70), done.\u001B[K\r\n",
      "remote: Total 628 (delta 245), reused 210 (delta 210), pack-reused 348\u001B[K\r\n",
      "Receiving objects: 100% (628/628), 200.56 KiB | 1.06 MiB/s, done.\r\n",
      "Resolving deltas: 100% (364/364), done.\r\n",
      "/Users/danc2050/PycharmProjects/TensorPrime/GIMPS/TensorPrime\n",
      "Already up to date.\r\n"
     ]
    }
   ],
   "source": [
    "import os\n",
    "\n",
    "branch = 'master' #@param ['master'] {allow-input: true}\n",
    "\n",
    "'''Load & cd into gdrive for persistent data'''\n",
    "global path_dir\n",
    "'''\n",
    "if not os.path.exists('/content/gdrive/MyDrive/'): # create your own notebook with our code\n",
    "  print(\"Google Drive is not mounted at /content/gdrive. You will be prompted to sign in to Google to mount your GDrive.\")\n",
    "  from google.colab import drive\n",
    "  drive.mount('/content/gdrive')\n",
    "%cd '/content/gdrive/MyDrive'\n",
    "'''\n",
    "\n",
    "\n",
    "if not os.path.exists('/content/gdrive/MyDrive/GIMPS'):\n",
    "  print(\"Creating GIMPS folder...\")\n",
    "  %mkdir -p GIMPS\n",
    "%cd 'GIMPS'\n",
    "\n",
    "!git clone https://github.com/TPU-Mersenne-Prime-Search/TensorPrime/ TensorPrime\n",
    "%cd TensorPrime\n",
    "!git pull"
   ]
  },
  {
   "cell_type": "markdown",
   "metadata": {
    "id": "suRHdNxqxQPc"
   },
   "source": [
    "Pull latest code from new branch"
   ]
  },
  {
   "cell_type": "code",
   "execution_count": 2,
   "metadata": {
    "id": "TsfB1kF0xQPd",
    "executionInfo": {
     "status": "ok",
     "timestamp": 1644964853572,
     "user_tz": 480,
     "elapsed": 2793,
     "user": {
      "displayName": "",
      "photoUrl": "",
      "userId": ""
     }
    },
    "outputId": "7674a3f3-a410-480b-ca3c-6f4df6bc5b54",
    "colab": {
     "base_uri": "https://localhost:8080/"
    }
   },
   "outputs": [
    {
     "output_type": "stream",
     "name": "stdout",
     "text": [
      "Already on 'master'\n",
      "Your branch is up to date with 'origin/master'.\n",
      "Already up to date.\n"
     ]
    }
   ],
   "source": [
    "!git checkout {branch} && git pull"
   ]
  },
  {
   "cell_type": "markdown",
   "metadata": {
    "id": "oMj6t7JPxQPd"
   },
   "source": [
    "Run tests"
   ]
  },
  {
   "cell_type": "code",
   "execution_count": null,
   "metadata": {
    "id": "vOAACIRjxQPe",
    "outputId": "569fc608-05f4-433c-a3fa-eece3e871b2c",
    "colab": {
     "base_uri": "https://localhost:8080/"
    }
   },
   "outputs": [
    {
     "name": "stdout",
     "output_type": "stream",
     "text": [
      "[2023-12-19 09:11:25,375]  INFO: Testing p=2\r\n",
      "[2023-12-19 09:11:25,375]  INFO: File does not exist.\r\n",
      "[2023-12-19 09:11:25,375]  INFO: Using FFT length 2\r\n",
      "[2023-12-19 09:11:25,375]  INFO: Starting TensorPrime\r\n",
      "[2023-12-19 09:11:25,375]  INFO: Starting Probable Prime Test.\r\n",
      "[2023-12-19 09:11:25,375]  DEBUG: Initializing arrays\r\n",
      "[2023-12-19 09:11:25,376]  DEBUG: Finished tracing + transforming convert_element_type for pjit in 0.000179290771484375 sec\r\n",
      "[2023-12-19 09:11:25,376]  DEBUG: No jax_plugins namespace packages available\r\n",
      "[2023-12-19 09:11:25,395]  DEBUG: Initializing backend 'cpu'\r\n",
      "[2023-12-19 09:11:25,398]  DEBUG: Backend 'cpu' initialized\r\n",
      "[2023-12-19 09:11:25,398]  DEBUG: Initializing backend 'cuda'\r\n",
      "[2023-12-19 09:11:25,398]  INFO: Unable to initialize backend 'cuda': \r\n",
      "[2023-12-19 09:11:25,398]  DEBUG: Initializing backend 'rocm'\r\n",
      "[2023-12-19 09:11:25,398]  INFO: Unable to initialize backend 'rocm': module 'jaxlib.xla_extension' has no attribute 'GpuAllocatorConfig'\r\n",
      "[2023-12-19 09:11:25,398]  DEBUG: Initializing backend 'tpu'\r\n",
      "[2023-12-19 09:11:25,402]  INFO: Unable to initialize backend 'tpu': INTERNAL: Failed to open libtpu.so: dlopen(libtpu.so, 0x0001): tried: 'libtpu.so' (no such file), '/System/Volumes/Preboot/Cryptexes/OSlibtpu.so' (no such file), '/usr/lib/libtpu.so' (no such file, not in dyld cache), 'libtpu.so' (no such file), '/usr/lib/libtpu.so' (no such file, not in dyld cache)\r\n",
      "[2023-12-19 09:11:25,405]  DEBUG: Compiling convert_element_type for with global shapes and types [ShapedArray(float32[])]. Argument mapping: (GSPMDSharding({replicated}),).\r\n",
      "[2023-12-19 09:11:25,431]  DEBUG: Finished jaxpr to MLIR module conversion jit(convert_element_type) in 0.025065898895263672 sec\r\n",
      "[2023-12-19 09:11:25,432]  DEBUG: get_compile_options: num_replicas=1 num_partitions=1 device_assignment=[[CpuDevice(id=0)]]\r\n",
      "[2023-12-19 09:11:25,433]  DEBUG: get_compile_options XLA-AutoFDO profile: using XLA-AutoFDO profile version -1\r\n",
      "[2023-12-19 09:11:25,552]  DEBUG: Finished XLA compilation of jit(convert_element_type) in 0.11933588981628418 sec\r\n",
      "[2023-12-19 09:11:25,554]  DEBUG: Finished tracing + transforming broadcast_in_dim for pjit in 0.0002040863037109375 sec\r\n",
      "[2023-12-19 09:11:25,554]  DEBUG: Compiling broadcast_in_dim for with global shapes and types [ShapedArray(float32[])]. Argument mapping: (GSPMDSharding({replicated}),).\r\n",
      "[2023-12-19 09:11:25,556]  DEBUG: Finished jaxpr to MLIR module conversion jit(broadcast_in_dim) in 0.002315998077392578 sec\r\n",
      "[2023-12-19 09:11:25,557]  DEBUG: get_compile_options: num_replicas=1 num_partitions=1 device_assignment=[[CpuDevice(id=0)]]\r\n",
      "[2023-12-19 09:11:25,557]  DEBUG: get_compile_options XLA-AutoFDO profile: using XLA-AutoFDO profile version -1\r\n",
      "[2023-12-19 09:11:25,577]  DEBUG: Finished XLA compilation of jit(broadcast_in_dim) in 0.020396947860717773 sec\r\n",
      "[2023-12-19 09:11:25,579]  DEBUG: Finished tracing + transforming fn for pjit in 0.0009160041809082031 sec\r\n",
      "[2023-12-19 09:11:25,580]  DEBUG: Finished tracing + transforming <lambda> for pjit in 0.0001811981201171875 sec\r\n",
      "[2023-12-19 09:11:25,580]  DEBUG: Finished tracing + transforming fn for pjit in 0.00017404556274414062 sec\r\n",
      "[2023-12-19 09:11:25,581]  DEBUG: Finished tracing + transforming true_divide for pjit in 0.00022912025451660156 sec\r\n",
      "[2023-12-19 09:11:25,581]  DEBUG: Finished tracing + transforming <lambda> for pjit in 0.0001239776611328125 sec\r\n",
      "[2023-12-19 09:11:25,582]  DEBUG: Finished tracing + transforming <lambda> for pjit in 0.00020885467529296875 sec\r\n",
      "[2023-12-19 09:11:25,583]  DEBUG: Finished tracing + transforming fn for pjit in 0.00021696090698242188 sec\r\n",
      "[2023-12-19 09:11:25,583]  DEBUG: Finished tracing + transforming _squeeze for pjit in 6.794929504394531e-05 sec\r\n",
      "[2023-12-19 09:11:25,584]  DEBUG: Finished tracing + transforming body_fn for pjit in 0.0038619041442871094 sec\r\n",
      "[2023-12-19 09:11:25,584]  DEBUG: Finished tracing + transforming fill_bit_array for pjit in 0.006056070327758789 sec\r\n",
      "[2023-12-19 09:11:25,585]  DEBUG: Compiling fill_bit_array for with global shapes and types [ShapedArray(float32[2])]. Argument mapping: (GSPMDSharding({replicated}),).\r\n",
      "[2023-12-19 09:11:25,594]  DEBUG: Finished jaxpr to MLIR module conversion jit(fill_bit_array) in 0.009451866149902344 sec\r\n",
      "[2023-12-19 09:11:25,595]  DEBUG: get_compile_options: num_replicas=1 num_partitions=1 device_assignment=[[CpuDevice(id=0)]]\r\n",
      "[2023-12-19 09:11:25,595]  DEBUG: get_compile_options XLA-AutoFDO profile: using XLA-AutoFDO profile version -1\r\n",
      "[2023-12-19 09:11:25,628]  DEBUG: Finished XLA compilation of jit(fill_bit_array) in 0.032968997955322266 sec\r\n",
      "[2023-12-19 09:11:25,630]  DEBUG: Finished tracing + transforming fn for pjit in 0.0002722740173339844 sec\r\n",
      "[2023-12-19 09:11:25,630]  DEBUG: Finished tracing + transforming _power for pjit in 0.0003199577331542969 sec\r\n",
      "[2023-12-19 09:11:25,631]  DEBUG: Finished tracing + transforming body_fn for pjit in 0.002232074737548828 sec\r\n",
      "[2023-12-19 09:11:25,632]  DEBUG: Finished tracing + transforming fill_power_bit_array for pjit in 0.0031418800354003906 sec\r\n",
      "[2023-12-19 09:11:25,632]  DEBUG: Compiling fill_power_bit_array for with global shapes and types [ShapedArray(float32[2]), ShapedArray(float32[2])]. Argument mapping: (GSPMDSharding({replicated}), GSPMDSharding({replicated})).\r\n",
      "[2023-12-19 09:11:25,637]  DEBUG: Finished jaxpr to MLIR module conversion jit(fill_power_bit_array) in 0.004508018493652344 sec\r\n",
      "[2023-12-19 09:11:25,637]  DEBUG: get_compile_options: num_replicas=1 num_partitions=1 device_assignment=[[CpuDevice(id=0)]]\r\n",
      "[2023-12-19 09:11:25,638]  DEBUG: get_compile_options XLA-AutoFDO profile: using XLA-AutoFDO profile version -1\r\n",
      "[2023-12-19 09:11:25,652]  DEBUG: Finished XLA compilation of jit(fill_power_bit_array) in 0.013892889022827148 sec\r\n",
      "[2023-12-19 09:11:25,654]  DEBUG: Finished tracing + transforming _power for pjit in 0.00023508071899414062 sec\r\n",
      "[2023-12-19 09:11:25,655]  DEBUG: Finished tracing + transforming fill_weight_array for pjit in 0.002986907958984375 sec\r\n",
      "[2023-12-19 09:11:25,656]  DEBUG: Compiling fill_weight_array for with global shapes and types [ShapedArray(float32[2])]. Argument mapping: (GSPMDSharding({replicated}),).\r\n",
      "[2023-12-19 09:11:25,661]  DEBUG: Finished jaxpr to MLIR module conversion jit(fill_weight_array) in 0.005120992660522461 sec\r\n",
      "[2023-12-19 09:11:25,662]  DEBUG: get_compile_options: num_replicas=1 num_partitions=1 device_assignment=[[CpuDevice(id=0)]]\r\n",
      "[2023-12-19 09:11:25,662]  DEBUG: get_compile_options XLA-AutoFDO profile: using XLA-AutoFDO profile version -1\r\n",
      "[2023-12-19 09:11:25,673]  DEBUG: Finished XLA compilation of jit(fill_weight_array) in 0.011239767074584961 sec\r\n",
      "[2023-12-19 09:11:25,674]  DEBUG: bit_array: [1. 1.]\r\n",
      "[2023-12-19 09:11:25,674]  DEBUG: power_bit_array: [2. 2.]\r\n",
      "[2023-12-19 09:11:25,674]  DEBUG: weight_array: [1. 1.]\r\n",
      "[2023-12-19 09:11:25,674]  DEBUG: Array initialization complete\r\n",
      "[2023-12-19 09:11:25,675]  DEBUG: Finished tracing + transforming convert_element_type for pjit in 0.00014901161193847656 sec\r\n",
      "[2023-12-19 09:11:25,676]  DEBUG: Compiling convert_element_type for with global shapes and types [ShapedArray(int32[])]. Argument mapping: (GSPMDSharding({replicated}),).\r\n",
      "[2023-12-19 09:11:25,677]  DEBUG: Finished jaxpr to MLIR module conversion jit(convert_element_type) in 0.001088857650756836 sec\r\n",
      "[2023-12-19 09:11:25,677]  DEBUG: get_compile_options: num_replicas=1 num_partitions=1 device_assignment=[[CpuDevice(id=0)]]\r\n",
      "[2023-12-19 09:11:25,678]  DEBUG: get_compile_options XLA-AutoFDO profile: using XLA-AutoFDO profile version -1\r\n",
      "[2023-12-19 09:11:25,683]  DEBUG: Finished XLA compilation of jit(convert_element_type) in 0.0051457881927490234 sec\r\n",
      "[2023-12-19 09:11:25,684]  DEBUG: Finished tracing + transforming convert_element_type for pjit in 0.00014591217041015625 sec\r\n",
      "[2023-12-19 09:11:25,684]  DEBUG: Compiling convert_element_type for with global shapes and types [ShapedArray(int32[])]. Argument mapping: (GSPMDSharding({replicated}),).\r\n",
      "[2023-12-19 09:11:25,685]  DEBUG: Finished jaxpr to MLIR module conversion jit(convert_element_type) in 0.001010894775390625 sec\r\n",
      "[2023-12-19 09:11:25,686]  DEBUG: get_compile_options: num_replicas=1 num_partitions=1 device_assignment=[[CpuDevice(id=0)]]\r\n",
      "[2023-12-19 09:11:25,686]  DEBUG: get_compile_options XLA-AutoFDO profile: using XLA-AutoFDO profile version -1\r\n",
      "[2023-12-19 09:11:25,691]  DEBUG: Finished XLA compilation of jit(convert_element_type) in 0.005321025848388672 sec\r\n",
      "[2023-12-19 09:11:25,692]  DEBUG: Finished tracing + transforming broadcast_in_dim for pjit in 0.00015997886657714844 sec\r\n",
      "[2023-12-19 09:11:25,693]  DEBUG: Compiling broadcast_in_dim for with global shapes and types [ShapedArray(int32[])]. Argument mapping: (GSPMDSharding({replicated}),).\r\n",
      "[2023-12-19 09:11:25,694]  DEBUG: Finished jaxpr to MLIR module conversion jit(broadcast_in_dim) in 0.0012040138244628906 sec\r\n",
      "[2023-12-19 09:11:25,695]  DEBUG: get_compile_options: num_replicas=1 num_partitions=1 device_assignment=[[CpuDevice(id=0)]]\r\n",
      "[2023-12-19 09:11:25,695]  DEBUG: get_compile_options XLA-AutoFDO profile: using XLA-AutoFDO profile version -1\r\n",
      "[2023-12-19 09:11:25,700]  DEBUG: Finished XLA compilation of jit(broadcast_in_dim) in 0.005139827728271484 sec\r\n",
      "[2023-12-19 09:11:25,701]  DEBUG: Finished tracing + transforming convert_element_type for pjit in 0.0001437664031982422 sec\r\n",
      "[2023-12-19 09:11:25,701]  DEBUG: Compiling convert_element_type for with global shapes and types [ShapedArray(int32[], weak_type=True)]. Argument mapping: (GSPMDSharding({replicated}),).\r\n",
      "[2023-12-19 09:11:25,702]  DEBUG: Finished jaxpr to MLIR module conversion jit(convert_element_type) in 0.0010199546813964844 sec\r\n",
      "[2023-12-19 09:11:25,703]  DEBUG: get_compile_options: num_replicas=1 num_partitions=1 device_assignment=[[CpuDevice(id=0)]]\r\n",
      "[2023-12-19 09:11:25,703]  DEBUG: get_compile_options XLA-AutoFDO profile: using XLA-AutoFDO profile version -1\r\n",
      "[2023-12-19 09:11:25,707]  DEBUG: Finished XLA compilation of jit(convert_element_type) in 0.0046558380126953125 sec\r\n",
      "[2023-12-19 09:11:25,708]  DEBUG: Compiling _squeeze for with global shapes and types [ShapedArray(float32[])]. Argument mapping: (GSPMDSharding({replicated}),).\r\n",
      "[2023-12-19 09:11:25,709]  DEBUG: Finished jaxpr to MLIR module conversion jit(_squeeze) in 0.0009529590606689453 sec\r\n",
      "[2023-12-19 09:11:25,710]  DEBUG: get_compile_options: num_replicas=1 num_partitions=1 device_assignment=[[CpuDevice(id=0)]]\r\n",
      "[2023-12-19 09:11:25,710]  DEBUG: get_compile_options XLA-AutoFDO profile: using XLA-AutoFDO profile version -1\r\n",
      "[2023-12-19 09:11:25,715]  DEBUG: Finished XLA compilation of jit(_squeeze) in 0.00491023063659668 sec\r\n",
      "[2023-12-19 09:11:25,716]  DEBUG: Finished tracing + transforming scatter for pjit in 0.00018906593322753906 sec\r\n",
      "[2023-12-19 09:11:25,716]  DEBUG: Compiling scatter for with global shapes and types [ShapedArray(float32[2]), ShapedArray(int32[1]), ShapedArray(float32[])]. Argument mapping: (GSPMDSharding({replicated}), GSPMDSharding({replicated}), GSPMDSharding({replicated})).\r\n",
      "[2023-12-19 09:11:25,718]  DEBUG: Finished jaxpr to MLIR module conversion jit(scatter) in 0.0011599063873291016 sec\r\n",
      "[2023-12-19 09:11:25,718]  DEBUG: get_compile_options: num_replicas=1 num_partitions=1 device_assignment=[[CpuDevice(id=0)]]\r\n",
      "[2023-12-19 09:11:25,718]  DEBUG: get_compile_options XLA-AutoFDO profile: using XLA-AutoFDO profile version -1\r\n",
      "[2023-12-19 09:11:25,725]  DEBUG: Finished XLA compilation of jit(scatter) in 0.006604671478271484 sec\r\n",
      "[2023-12-19 09:11:25,726]  DEBUG: Finished tracing + transforming copy for pjit in 0.00012803077697753906 sec\r\n",
      "[2023-12-19 09:11:25,727]  DEBUG: Compiling copy for with global shapes and types [ShapedArray(float32[2])]. Argument mapping: (GSPMDSharding({replicated}),).\r\n",
      "[2023-12-19 09:11:25,728]  DEBUG: Finished jaxpr to MLIR module conversion jit(copy) in 0.00096893310546875 sec\r\n",
      "[2023-12-19 09:11:25,728]  DEBUG: get_compile_options: num_replicas=1 num_partitions=1 device_assignment=[[CpuDevice(id=0)]]\r\n",
      "[2023-12-19 09:11:25,728]  DEBUG: get_compile_options XLA-AutoFDO profile: using XLA-AutoFDO profile version -1\r\n",
      "[2023-12-19 09:11:25,733]  DEBUG: Finished XLA compilation of jit(copy) in 0.004364967346191406 sec\r\n",
      "[2023-12-19 09:11:25,735]  DEBUG: Finished tracing + transforming fn for pjit in 0.00022602081298828125 sec\r\n",
      "[2023-12-19 09:11:25,737]  DEBUG: Finished tracing + transforming true_divide for pjit in 0.0002219676971435547 sec\r\n",
      "[2023-12-19 09:11:25,737]  DEBUG: Finished tracing + transforming fn for pjit in 0.0001709461212158203 sec\r\n",
      "[2023-12-19 09:11:25,740]  DEBUG: Finished tracing + transforming <lambda> for pjit in 0.0002129077911376953 sec\r\n",
      "[2023-12-19 09:11:25,743]  DEBUG: Finished tracing + transforming balance for pjit in 0.009474992752075195 sec\r\n",
      "[2023-12-19 09:11:25,743]  DEBUG: Finished tracing + transforming fn for pjit in 0.0001571178436279297 sec\r\n",
      "Traced<ShapedArray(float32[2])>with<DynamicJaxprTrace(level=2/0)>\r\n"
     ]
    }
   ],
   "source": [
    "import csv\n",
    "import time\n",
    "from math import log2, floor\n",
    "\n",
    "#file = open('/content/known_primes.csv', 'r')\n",
    "file = open('known_primes.csv', 'r')\n",
    "type(file)\n",
    "csvreader = csv.reader(file)\n",
    "next(csvreader)\n",
    "\n",
    "fields = ['Num', 'Exponent', 'Time']\n",
    "#filename = \"/content/Timed trials.csv\"\n",
    "filename = \"Timed trials.csv\"\n",
    "with open(filename, 'a') as csvfile:\n",
    "  csvwriter = csv.writer(csvfile)\n",
    "  csvwriter.writerow(fields)\n",
    "#f = open('Timed trials.csv', 'w')\n",
    "\n",
    "#print(f)\n",
    "toWrite = []\n",
    "timed = 0\n",
    "runs = 0\n",
    "for row in csvreader:\n",
    "  #if(runs == 2): break\n",
    "  x = row[1]\n",
    "  with open(filename, 'a') as csvfile:\n",
    "    csvwriter = csv.writer(csvfile)\n",
    "    x_sig = 2**floor(log2(int(x)))\n",
    "    start = time.time()\n",
    "    !python3 main.py -p $x --siglen $x_sig\n",
    "    end = time.time()\n",
    "    timed = (end - start)\n",
    "    toWrite = [str(runs), str(x), str(timed)]\n",
    "    csvwriter.writerow(toWrite)\n",
    "  runs +=1\n",
    "\n",
    "\n"
   ]
  },
  {
   "cell_type": "code",
   "execution_count": 6,
   "outputs": [],
   "source": [],
   "metadata": {
    "collapsed": false,
    "ExecuteTime": {
     "end_time": "2023-12-19T00:41:31.478052Z",
     "start_time": "2023-12-19T00:41:31.472261Z"
    }
   }
  },
  {
   "cell_type": "code",
   "execution_count": null,
   "outputs": [],
   "source": [],
   "metadata": {
    "collapsed": false
   }
  }
 ],
 "metadata": {
  "language_info": {
   "name": "python"
  },
  "orig_nbformat": 4,
  "colab": {
   "name": "Copy of UnitTestNotebook.ipynb",
   "provenance": [
    {
     "file_id": "https://github.com/TPU-Mersenne-Prime-Search/TensorPrime/blob/TensorMark/UnitTestNotebook.ipynb",
     "timestamp": 1645084442160
    }
   ]
  },
  "kernelspec": {
   "name": "python3",
   "language": "python",
   "display_name": "Python 3 (ipykernel)"
  },
  "accelerator": "TPU"
 },
 "nbformat": 4,
 "nbformat_minor": 0
}
