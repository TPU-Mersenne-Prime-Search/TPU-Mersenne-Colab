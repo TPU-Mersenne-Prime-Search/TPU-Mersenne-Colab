{
  "cells": [
    {
      "cell_type": "code",
      "execution_count": 5,
      "metadata": {
        "colab": {
          "base_uri": "https://localhost:8080/"
        },
        "id": "K626SX9YBtwt",
        "outputId": "f73d3177-d6d8-4388-b0d9-f70e79e98402"
      },
      "outputs": [
        {
          "name": "stdout",
          "output_type": "stream",
          "text": [
            "Tensorflow average time:\t0\n",
            "Pytorch average time:\t\t0.6713154315948486\n",
            "Jax average time:\t\t0\n",
            "Numpy average time:\t\t0.6960837841033936\n"
          ]
        }
      ],
      "source": [
        "import time as time\n",
        "\n",
        "import numpy as np\n",
        "import tensorflow as tf\n",
        "import torch as pt\n",
        "import torch_xla\n",
        "import torch_xla.core.xla_model as xm\n",
        "import jax as j\n",
        "\n",
        "#Declaration of constants\n",
        "MATRIX_WIDTH = 2**10  #Width of the (square) matrices we're multiplying\n",
        "NUM_LOOPS = 10         #Number of times to repeat the test\n",
        "MULTS_PER_LOOP = 10  #Number of times to multiply per test\n",
        "NUM_TESTS = 1\n",
        "\n",
        "#Matrix generation; makes two uniformly distributed square matrices made\n",
        "#up of floating point numbers that are >= 0 and < 10. \n",
        "matrix1 = np.random.uniform(low = 0, high = 10,\n",
        "                            size = (MATRIX_WIDTH, MATRIX_WIDTH))\n",
        "matrix2 = np.random.uniform(low = 0, high = 10,\n",
        "                            size = (MATRIX_WIDTH, MATRIX_WIDTH))\n",
        "\n",
        "\n",
        "#Tensorflow zone\n",
        "def tensorflowBenchmark(matrix1, matrix2, numLoops = 1, multsPerIter = 1):\n",
        " return 0\n",
        "\n",
        "\n",
        "#Pytorch zone; returns the avg time per loop\n",
        "def pytorchBenchmark(matrix1, matrix2, numLoops = 1, multsPerIter = 1):\n",
        "\n",
        "  tpu1 = xm.xla_device(n=1, devkind='TPU')\n",
        "  tpu2 = xm.xla_device(n=2, devkind='TPU')\n",
        "  ptMatrix1 = (pt.from_numpy(matrix1)).to(tpu1)\n",
        "  ptMatrix2 = (pt.from_numpy(matrix2)).to(tpu2)\n",
        "\n",
        "  ptTotalTime = 0\n",
        "\n",
        "  for i in range(numLoops):\n",
        "      ptStartTime = time.time()\n",
        "      for n in range(multsPerIter):\n",
        "        pt.matmul(ptMatrix1, ptMatrix2)\n",
        "      ptEndtime = time.time()\n",
        "      ptTotalTime += ptEndtime - ptStartTime\n",
        "\n",
        "  ptAvgTime = ptTotalTime / numLoops\n",
        "  return ptAvgTime\n",
        "\n",
        "\n",
        "#Jax zone\n",
        "def jaxBenchmark(matrix1, matrix2, numLoops = 1, multsPerIter = 1):\n",
        " return 0\n",
        "\n",
        "\n",
        "#Numpy zone\n",
        "def numpyBenchmark(matrix1, matrix2, numLoops = 1, multsPerIter = 1):\n",
        "  npMatrix1 = matrix1\n",
        "  npMatrix2 = matrix2\n",
        "  npTotalTime = 0\n",
        "  \n",
        "  for i in range(numLoops):\n",
        "    npStartTime = time.time()\n",
        "    for n in range(multsPerIter):\n",
        "      np.matmul(npMatrix1, npMatrix2)\n",
        "    npEndtime = time.time()\n",
        "    npTotalTime += npEndtime - npStartTime\n",
        "  \n",
        "  npAvgTime = npTotalTime / numLoops\n",
        "  return npAvgTime\n",
        "\n",
        "\n",
        "#Gather results\n",
        "tfAvg = tensorflowBenchmark(matrix1, matrix2, numLoops = NUM_TESTS, multsPerIter = MULTS_PER_LOOP)\n",
        "ptAvg = pytorchBenchmark(matrix1, matrix2, numLoops = NUM_TESTS, multsPerIter = MULTS_PER_LOOP)\n",
        "jAvg = jaxBenchmark(matrix1, matrix2, numLoops = NUM_TESTS, multsPerIter = MULTS_PER_LOOP)\n",
        "nAvg = numpyBenchmark(matrix1, matrix2, numLoops = NUM_TESTS, multsPerIter = MULTS_PER_LOOP)\n",
        "\n",
        "#Print results\n",
        "print(\"Tensorflow average time:\\t\" + str(tfAvg))\n",
        "print(\"Pytorch average time:\\t\\t\" + str(ptAvg))\n",
        "print(\"Jax average time:\\t\\t\" + str(jAvg))\n",
        "print(\"Numpy average time:\\t\\t\" + str(nAvg))"
      ]
    }
  ],
  "metadata": {
    "accelerator": "TPU",
    "colab": {
      "collapsed_sections": [],
      "name": "Pytorch_Benchmark.ipynb",
      "provenance": []
    },
    "kernelspec": {
      "display_name": "Python 3",
      "name": "python3"
    },
    "language_info": {
      "name": "python"
    }
  },
  "nbformat": 4,
  "nbformat_minor": 0
}
