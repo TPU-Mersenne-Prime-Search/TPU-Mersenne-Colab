{
  "cells": [
    {
      "cell_type": "markdown",
      "source": [
        "# **📔 TensorPrime**\n",
        "\n",
        "#### ↖️ Click the ▶️ button after deciding on the options below.\n",
        "#### 🔌 Make sure the TPU is enabled under *Runtime→Change runtime type*\n",
        "#### 💡 Keep each notebook **open** in the browser to prevent disconnection. 📌 [the tab](https://support.mozilla.org/en-US/kb/pinned-tabs-keep-favorite-websites-open) or move them to a dedicated window for easy access.\n",
        "#### ℹ️ This notebook uses our [TensorPrime](https://github.com/TPU-Mersenne-Prime-Search/TensorPrime) and our [PrimeNet Python script](https://github.com/tdulcet/Distributed-Computing-Scripts#primenet).\n",
        "#### 📜 Please see the [wiki](TPU-Mersenne-Prime-Search/TensorPrime) for more information.\n",
        "#### 🤷 Optionally, create a GIMPS/PrimeNet account [here](https://www.mersenne.org/update/) and [join](https://www.mersenne.org/jteam/) the “Portland State University” team!\n"
      ],
      "metadata": {
        "id": "NBev5pqChN1_"
      }
    },
    {
      "cell_type": "code",
      "execution_count": null,
      "metadata": {
        "id": "CPhdm16S8JqB"
      },
      "outputs": [],
      "source": [
        "import os\n",
        "\n",
        "#{ vertical-output: true, form-width: \"20%\", display-mode: \"form\" }\n",
        "\n",
        "branch = 'master' #@param ['master'] {allow-input: true}\n",
        "prime_ID = 'Default' #@param ['Default'] {allow-input: true}\n",
        "computer_name = 'Default' #@param ['Default'] {allow-input: true}\n",
        "TPU_type_of_work = '150 - First time PRP tests' #@param ['150 - First time PRP tests', '151 - Double-check PRP tests']\n",
        "computer_number = 'Default (1)' #@param ['Default (1)', '2', '3', '4'] {allow-input: true}\n",
        "output_type = 'TPU (TensorPrime)' #@param ['TPU (TensorPrime)']\n",
        "local_time = 'Pacific' #@param ['Pacific', 'Mountain', 'Central', 'Eastern', 'Alaska', 'Hawaii']\n",
        "debug = 'False' #@param ['False', 'TPU (TensorPrime)']\n",
        "\n",
        "\n",
        "#@markdown #### 🐛 The *debug* option outputs TPU (TensorPrime) progress and status, then exits.\n",
        "\n",
        "\n",
        "'''Load & cd into gdrive for persistent data'''\n",
        "global path_dir\n",
        "if not os.path.exists('/content/gdrive/MyDrive/'): # create your own notebook with our code\n",
        "  print(\"Google Drive is not mounted at /content/gdrive. You will be prompted to sign in to Google to mount your GDrive.\")\n",
        "  from google.colab import drive\n",
        "  drive.mount('/content/gdrive')\n",
        "%cd '/content/gdrive/MyDrive'\n",
        "\n",
        "\n",
        "if not os.path.exists('/content/gdrive/MyDrive/GIMPS'):\n",
        "  print(\"Creating GIMPS folder...\")\n",
        "  %mkdir -p GIMPS\n",
        "%cd 'GIMPS'\n",
        "\n",
        "!git clone https://github.com/TPU-Mersenne-Prime-Search/TensorPrime/ TensorPrime\n",
        "%cd TensorPrime\n",
        "!git pull && git checkout {branch} && git pull"
      ]
    },
    {
      "cell_type": "markdown",
      "source": [
        "## Run the cell below to kick off TensorPrime"
      ],
      "metadata": {
        "id": "gj_DXBkgjbDu"
      }
    },
    {
      "cell_type": "code",
      "execution_count": null,
      "metadata": {
        "id": "AvJwUadI8BUQ"
      },
      "outputs": [],
      "source": [
        "!python3 main.py -p 23209 "
      ]
    }
  ],
  "metadata": {
    "colab": {
      "name": "BootstrapTensorPrime.ipynb",
      "provenance": []
    },
    "kernelspec": {
      "display_name": "Python 3 (ipykernel)",
      "language": "python",
      "name": "python3"
    },
    "language_info": {
      "name": "python"
    },
    "accelerator": "TPU"
  },
  "nbformat": 4,
  "nbformat_minor": 0
}